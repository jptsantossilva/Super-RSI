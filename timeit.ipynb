{
 "cells": [
  {
   "cell_type": "code",
   "execution_count": 13,
   "metadata": {},
   "outputs": [
    {
     "name": "stdout",
     "output_type": "stream",
     "text": [
      " 1d  3h 46m 39s\n"
     ]
    }
   ],
   "source": [
    "total_seconds = 99999 # Example number of seconds\n",
    "\n",
    "days, remainder = divmod(total_seconds, 3600*24)\n",
    "hours, remainder = divmod(remainder, 3600)\n",
    "minutes, seconds = divmod(remainder, 60)\n",
    "\n",
    "# Creating a string that displays the time in the hms format\n",
    "time_format = \"{:2d}d {:2d}h {:2d}m {:2d}s\".format(days, hours, minutes, seconds)\n",
    "\n",
    "print(time_format) # Output: 1h 1m 1s"
   ]
  }
 ],
 "metadata": {
  "kernelspec": {
   "display_name": "Python 3",
   "language": "python",
   "name": "python3"
  },
  "language_info": {
   "codemirror_mode": {
    "name": "ipython",
    "version": 3
   },
   "file_extension": ".py",
   "mimetype": "text/x-python",
   "name": "python",
   "nbconvert_exporter": "python",
   "pygments_lexer": "ipython3",
   "version": "3.10.6"
  },
  "orig_nbformat": 4
 },
 "nbformat": 4,
 "nbformat_minor": 2
}
